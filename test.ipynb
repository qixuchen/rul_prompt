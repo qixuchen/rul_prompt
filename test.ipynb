{
 "cells": [
  {
   "cell_type": "code",
   "execution_count": 1,
   "metadata": {},
   "outputs": [
    {
     "name": "stderr",
     "output_type": "stream",
     "text": [
      "/home/qchenax/miniconda3/envs/astar/lib/python3.8/site-packages/torch/nn/_reduction.py:42: UserWarning: size_average and reduce args will be deprecated, please use reduction='mean' instead.\n",
      "  warnings.warn(warning.format(ret))\n"
     ]
    }
   ],
   "source": [
    "import os\n",
    "import argparse\n",
    "import pprint\n",
    "from datetime import date\n",
    "import _init_paths\n",
    "\n",
    "import numpy as np\n",
    "import random\n",
    "import warnings\n",
    "import torch\n",
    "import torch.nn as nn\n",
    "from config import config, update_config\n",
    "import create_logger\n",
    "from lib import metric_clip as metric\n",
    "\n",
    "\n",
    "from core.model_prompt import model\n",
    "from dataset.iterator_factory import get_dataiter\n",
    "from networks.get_symbol import get_symbol\n",
    "from lib import criterions\n",
    "\n",
    "\n",
    "torch.backends.cudnn.enabled = False"
   ]
  },
  {
   "cell_type": "code",
   "execution_count": 2,
   "metadata": {},
   "outputs": [
    {
     "name": "stderr",
     "output_type": "stream",
     "text": [
      "/home/qchenax/astar/rul_prompt/config.py:77: YAMLLoadWarning: calling yaml.load() without Loader=... is deprecated, as the default Loader is unsafe. Please read https://msg.pyyaml.org/load for full details.\n",
      "  exp_config = edict(yaml.load(f))\n",
      "/tmp/ipykernel_2073/1597031922.py:11: UserWarning: You have chosen to seed training. This will turn on the CUDNN deterministic setting, which can slow down your training considerably! You may see unexpected behavior when restarting from checkpoints.\n",
      "  warnings.warn('You have chosen to seed training. '\n"
     ]
    },
    {
     "name": "stdout",
     "output_type": "stream",
     "text": [
      "Sensor::test data (23) less than seq_len (30)!\n",
      "Sensor::Use first data to pad!\n",
      "Sensor::test data (22) less than seq_len (30)!\n",
      "Sensor::Use first data to pad!\n",
      "Sensor::test data (21) less than seq_len (30)!\n",
      "Sensor::Use first data to pad!\n",
      "Sensor::test data (29) less than seq_len (30)!\n",
      "Sensor::Use first data to pad!\n",
      "Sensor::test data (25) less than seq_len (30)!\n",
      "Sensor::Use first data to pad!\n",
      "Sensor::test data (29) less than seq_len (30)!\n",
      "Sensor::Use first data to pad!\n",
      "Setting::test data (23) less than seq_len (30)!\n",
      "Setting::Use first data to pad!\n",
      "Setting::test data (22) less than seq_len (30)!\n",
      "Setting::Use first data to pad!\n",
      "Setting::test data (21) less than seq_len (30)!\n",
      "Setting::Use first data to pad!\n",
      "Setting::test data (29) less than seq_len (30)!\n",
      "Setting::Use first data to pad!\n",
      "Setting::test data (25) less than seq_len (30)!\n",
      "Setting::Use first data to pad!\n",
      "Setting::test data (29) less than seq_len (30)!\n",
      "Setting::Use first data to pad!\n",
      "Sensor::test data (23) less than seq_len (30)!\n",
      "Sensor::Use first data to pad!\n",
      "Sensor::test data (24) less than seq_len (30)!\n",
      "Sensor::Use first data to pad!\n",
      "Sensor::test data (20) less than seq_len (30)!\n",
      "Sensor::Use first data to pad!\n",
      "Sensor::test data (21) less than seq_len (30)!\n",
      "Sensor::Use first data to pad!\n",
      "Sensor::test data (19) less than seq_len (30)!\n",
      "Sensor::Use first data to pad!\n",
      "Sensor::test data (28) less than seq_len (30)!\n",
      "Sensor::Use first data to pad!\n",
      "Sensor::test data (29) less than seq_len (30)!\n",
      "Sensor::Use first data to pad!\n",
      "Sensor::test data (19) less than seq_len (30)!\n",
      "Sensor::Use first data to pad!\n",
      "Sensor::test data (20) less than seq_len (30)!\n",
      "Sensor::Use first data to pad!\n",
      "Sensor::test data (28) less than seq_len (30)!\n",
      "Sensor::Use first data to pad!\n",
      "Sensor::test data (29) less than seq_len (30)!\n",
      "Sensor::Use first data to pad!\n",
      "Setting::test data (23) less than seq_len (30)!\n",
      "Setting::Use first data to pad!\n",
      "Setting::test data (24) less than seq_len (30)!\n",
      "Setting::Use first data to pad!\n",
      "Setting::test data (20) less than seq_len (30)!\n",
      "Setting::Use first data to pad!\n",
      "Setting::test data (21) less than seq_len (30)!\n",
      "Setting::Use first data to pad!\n",
      "Setting::test data (19) less than seq_len (30)!\n",
      "Setting::Use first data to pad!\n",
      "Setting::test data (28) less than seq_len (30)!\n",
      "Setting::Use first data to pad!\n",
      "Setting::test data (29) less than seq_len (30)!\n",
      "Setting::Use first data to pad!\n",
      "Setting::test data (19) less than seq_len (30)!\n",
      "Setting::Use first data to pad!\n",
      "Setting::test data (20) less than seq_len (30)!\n",
      "Setting::Use first data to pad!\n",
      "Setting::test data (28) less than seq_len (30)!\n",
      "Setting::Use first data to pad!\n",
      "Setting::test data (29) less than seq_len (30)!\n",
      "Setting::Use first data to pad!\n",
      "=========using KL Loss=and has temperature and support multi-label==========\n"
     ]
    }
   ],
   "source": [
    "update_config('./exps/fed_non_iid_v2.yaml')\n",
    "os.environ[\"CUDA_VISIBLE_DEVICES\"] = config.gpu\n",
    "\n",
    "if config.seed:\n",
    "    random.seed(config.seed)\n",
    "    np.random.seed(config.seed)\n",
    "    torch.manual_seed(config.seed)\n",
    "    torch.cuda.manual_seed(config.seed)\n",
    "    torch.backends.cudnn.deterministic = True\n",
    "    torch.backends.cudnn.benchmark = False\n",
    "    warnings.warn('You have chosen to seed training. '\n",
    "                    'This will turn on the CUDNN deterministic setting, '\n",
    "                    'which can slow down your training considerably! '\n",
    "                    'You may see unexpected behavior when restarting '\n",
    "                    'from checkpoints.')\n",
    "\n",
    "data_loader, data_iter = get_dataiter('data_name', config, 'fed')\n",
    "\n",
    "pmpt_1 = data_iter.pmpt_1 if hasattr(data_iter, 'pmpt_1') else None\n",
    "sym_net = get_symbol(config.net.name, config, hand_craft=config.net.hand_craft, pmpt_1 = pmpt_1)\n",
    "sym_net.float()\n",
    "\n",
    "# model_prefix = os.path.join(config.output_pt, 'exp_'+ model_fixtime + '_' + config.net.name)\n",
    "model_prefix = 'exp_' + config.net.name\n",
    "\n",
    "criterion = criterions.KLLoss_fast()\n",
    "\n",
    "net = model(net=sym_net, criterion=criterion, model_prefix=model_prefix, step_callback_freq=config.train.callback_freq,\n",
    "            save_checkpoint_freq=config.save_frequency, logger = None)"
   ]
  },
  {
   "cell_type": "code",
   "execution_count": 6,
   "metadata": {},
   "outputs": [
    {
     "name": "stdout",
     "output_type": "stream",
     "text": [
      "fc.fc1.weight\n",
      "fc.fc1.bias\n",
      "fc.fc2.weight\n",
      "fc.fc2.bias\n"
     ]
    }
   ],
   "source": [
    "for k in net.net.state_dict().keys():\n",
    "    if k.startswith('fc'):\n",
    "        print(k)"
   ]
  }
 ],
 "metadata": {
  "kernelspec": {
   "display_name": "astar",
   "language": "python",
   "name": "python3"
  },
  "language_info": {
   "codemirror_mode": {
    "name": "ipython",
    "version": 3
   },
   "file_extension": ".py",
   "mimetype": "text/x-python",
   "name": "python",
   "nbconvert_exporter": "python",
   "pygments_lexer": "ipython3",
   "version": "3.8.19"
  }
 },
 "nbformat": 4,
 "nbformat_minor": 2
}
